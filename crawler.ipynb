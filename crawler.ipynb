{
 "cells": [
  {
   "cell_type": "code",
   "execution_count": null,
   "metadata": {},
   "outputs": [],
   "source": [
    "import requests\n",
    "\n",
    "import os\n",
    "import time\n",
    "import pandas as pd\n",
    "\n",
    "# Defining a Global Variable for Output Directory\n",
    "RAW_DIR = \"Grayson_CAD_RAWDIR\"\n",
    "os.makedirs(RAW_DIR, exist_ok=True)"
   ]
  },
  {
   "cell_type": "markdown",
   "metadata": {},
   "source": [
    "## Read Excel for Account Numbers"
   ]
  },
  {
   "cell_type": "code",
   "execution_count": 13,
   "metadata": {},
   "outputs": [],
   "source": [
    "file_path = \"ALLQuickRefNumbers_cleaned.xlsx\"\n",
    "accounts_df = pd.read_excel(file_path)\n",
    "\n",
    "# drop duplicates on QuickRef column\n",
    "accounts_df['QuickRef'] = accounts_df.drop_duplicates(subset=['QuickRef'])"
   ]
  },
  {
   "cell_type": "code",
   "execution_count": 14,
   "metadata": {},
   "outputs": [],
   "source": [
    "accounts_df = accounts_df.dropna(subset=['QuickRef'])"
   ]
  },
  {
   "cell_type": "code",
   "execution_count": 15,
   "metadata": {},
   "outputs": [],
   "source": [
    "accounts_df = accounts_df.head(100)"
   ]
  },
  {
   "cell_type": "markdown",
   "metadata": {},
   "source": [
    "## Crawler"
   ]
  },
  {
   "cell_type": "code",
   "execution_count": 17,
   "metadata": {},
   "outputs": [
    {
     "name": "stdout",
     "output_type": "stream",
     "text": [
      "Processing account 1/100: R100000\n",
      "Processing account 2/100: R100001\n",
      "Processing account 3/100: R100008\n",
      "Processing account 4/100: R100010\n",
      "Processing account 5/100: R100012\n",
      "Processing account 6/100: R100013\n",
      "Processing account 7/100: R100014\n",
      "Processing account 8/100: R100015\n",
      "Processing account 9/100: R100016\n",
      "Processing account 10/100: R100017\n",
      "Processing account 11/100: R100018\n",
      "Processing account 12/100: R100019\n",
      "Processing account 13/100: R100020\n",
      "Processing account 14/100: R100021\n",
      "Processing account 15/100: R100022\n",
      "Processing account 16/100: R100024\n",
      "Processing account 17/100: R100045\n",
      "Processing account 18/100: R100046\n",
      "Processing account 19/100: R100047\n",
      "Processing account 20/100: R100048\n",
      "Processing account 21/100: R100049\n",
      "Processing account 22/100: R100050\n",
      "Processing account 23/100: R100051\n",
      "Processing account 24/100: R100052\n",
      "Processing account 25/100: R100053\n",
      "Processing account 26/100: R100054\n",
      "Processing account 27/100: R100055\n",
      "Processing account 28/100: R100056\n",
      "Processing account 29/100: R100057\n",
      "Processing account 30/100: R100058\n",
      "Processing account 31/100: R100060\n",
      "Processing account 32/100: R100062\n",
      "Processing account 33/100: R100063\n",
      "Processing account 34/100: R100064\n",
      "Processing account 35/100: R100065\n",
      "Processing account 36/100: R100066\n",
      "Processing account 37/100: R100067\n",
      "Processing account 38/100: R100070\n",
      "Processing account 39/100: R100071\n",
      "Processing account 40/100: R100072\n",
      "Processing account 41/100: R100073\n",
      "Processing account 42/100: R100074\n",
      "Processing account 43/100: R100075\n",
      "Processing account 44/100: R100077\n",
      "Processing account 45/100: R100079\n",
      "Processing account 46/100: R100080\n",
      "Processing account 47/100: R100081\n",
      "Processing account 48/100: R100082\n",
      "Processing account 49/100: R100083\n",
      "Processing account 50/100: R100084\n",
      "Processing account 51/100: R100085\n",
      "Processing account 52/100: R100086\n",
      "Processing account 53/100: R100087\n",
      "Processing account 54/100: R100088\n",
      "Processing account 55/100: R100089\n",
      "Processing account 56/100: R100090\n",
      "Processing account 57/100: R100091\n",
      "Processing account 58/100: R100092\n",
      "Processing account 59/100: R100093\n",
      "Processing account 60/100: R100094\n",
      "Processing account 61/100: R100095\n",
      "Processing account 62/100: R100096\n",
      "Processing account 63/100: R100097\n",
      "Processing account 64/100: R100098\n",
      "Processing account 65/100: R100099\n",
      "Processing account 66/100: R100100\n",
      "Processing account 67/100: R100101\n",
      "Processing account 68/100: R100103\n",
      "Processing account 69/100: R100105\n",
      "Processing account 70/100: R100107\n",
      "Processing account 71/100: R100108\n",
      "Processing account 72/100: R100109\n",
      "Processing account 73/100: R100110\n",
      "Processing account 74/100: R100111\n",
      "Processing account 75/100: R100112\n",
      "Processing account 76/100: R100113\n",
      "Processing account 77/100: R100114\n",
      "Processing account 78/100: R100115\n",
      "Processing account 79/100: R100116\n",
      "Processing account 80/100: R100117\n",
      "Processing account 81/100: R100118\n",
      "Processing account 82/100: R100119\n",
      "Processing account 83/100: R100121\n",
      "Processing account 84/100: R100123\n",
      "Processing account 85/100: R100125\n",
      "Processing account 86/100: R100126\n",
      "Processing account 87/100: R100127\n",
      "Processing account 88/100: R100128\n",
      "Processing account 89/100: R100129\n",
      "Processing account 90/100: R100131\n",
      "Processing account 91/100: R100132\n",
      "Processing account 92/100: R100133\n",
      "Processing account 93/100: R100134\n",
      "Processing account 94/100: R100135\n",
      "Processing account 95/100: R100136\n",
      "Processing account 96/100: R100137\n",
      "Processing account 97/100: R100139\n",
      "Processing account 98/100: R100140\n",
      "Processing account 99/100: R100142\n",
      "Processing account 100/100: R100143\n"
     ]
    }
   ],
   "source": [
    "for i, account in enumerate(accounts_df[\"QuickRef\"]):\n",
    "    print(f\"Processing account {i + 1}/{len(accounts_df)}: {account}\")\n",
    "    html_file = os.path.join(RAW_DIR, f\"{account}.html\")\n",
    "    if os.path.exists(html_file):\n",
    "        continue\n",
    "    url = (\n",
    "        \"https://grayson.propertytaxpayments.net/Accounts/AccountDetails?taxAccountNumber=\"\n",
    "        + account.lstrip(\"R\")\n",
    "    )\n",
    "    response = requests.get(url)\n",
    "    with open(html_file, \"w\", encoding=\"utf-8\") as f:\n",
    "        f.write(response.text)\n",
    "    time.sleep(0.5)"
   ]
  },
  {
   "cell_type": "code",
   "execution_count": null,
   "metadata": {},
   "outputs": [],
   "source": []
  }
 ],
 "metadata": {
  "kernelspec": {
   "display_name": "grayson-scr",
   "language": "python",
   "name": "python3"
  },
  "language_info": {
   "codemirror_mode": {
    "name": "ipython",
    "version": 3
   },
   "file_extension": ".py",
   "mimetype": "text/x-python",
   "name": "python",
   "nbconvert_exporter": "python",
   "pygments_lexer": "ipython3",
   "version": "3.12.3"
  }
 },
 "nbformat": 4,
 "nbformat_minor": 2
}
